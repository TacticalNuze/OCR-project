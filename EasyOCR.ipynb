{
 "cells": [
  {
   "cell_type": "code",
   "execution_count": 8,
   "metadata": {},
   "outputs": [],
   "source": [
    "import numpy as np # type: ignore\n",
    "import pandas as pd # type: ignore\n",
    "import easyocr  # type: ignore"
   ]
  },
  {
   "cell_type": "code",
   "execution_count": 10,
   "metadata": {},
   "outputs": [
    {
     "name": "stderr",
     "output_type": "stream",
     "text": [
      "Neither CUDA nor MPS are available - defaulting to CPU. Note: This module is much faster with a GPU.\n"
     ]
    }
   ],
   "source": [
    "reader = easyocr.Reader(['en']) \n",
    "resultraw=reader.readtext('Pictures\\Structure-of-the-Tesseract-OCR-This-neural-network-architecture-implements-and-combines.jpg',detail=0)\n",
    "#resultnosharp= reader.readtext('TreatedPictures\\\\GA 00100.jpeg',detail=0)\n",
    "#resultsharp=reader.readtext('TreatedPictures\\\\GAS 00100.jpeg',detail=0)\n"
   ]
  },
  {
   "cell_type": "code",
   "execution_count": 11,
   "metadata": {},
   "outputs": [
    {
     "name": "stdout",
     "output_type": "stream",
     "text": [
      "Raw results: \n",
      "['Predicted', '\"state\"', 'sequence', 'Transcription', 'Layer', 'Per-frame', 'Ttltle]', 'predictions', '(disbritutions)', 'bidirectional', 'LSTM', 'Recurrent', 'Layers', 'Feature', 'sequence', 'Convolutional', 'feature maps', 'Convolutional', 'Layers', 'Convolutional', 'feature maps', 'SIAE', 'Input image', 'Deep']\n"
     ]
    }
   ],
   "source": [
    "print(\"Raw results: \")\n",
    "print(resultraw)\n",
    "\n",
    "#print(\"Treated results: \")\n",
    "#print(resultnosharp)\n",
    "\n",
    "#print(\"Treated and sharpened results: \")\n",
    "#print(resultsharp)"
   ]
  },
  {
   "cell_type": "code",
   "execution_count": 9,
   "metadata": {},
   "outputs": [
    {
     "name": "stdout",
     "output_type": "stream",
     "text": [
      "[('المي', 'انلذون', 'انلذون'), ('ل', '٣ام', '٣ام'), ('رو م', 'رعدب سمان   الجردا راامننان', 'رعدب سمان   الجردا راامننان'), ('العرء ا وا ٦ منما', 'ايسنمان لفماش فدى زما طلام للراسان املا', 'ايسنمان لفماش فدى زما طلام للراسان املا'), ('عدا مان', 'العلفىة', 'العلفىة'), ('مدى رمامات الدراات الع', 'الفطاغ الصناعىا التخمم', 'الفطاغ الصناعىا التخمم'), ('اسان', 'مدى مدسة دربع جنعبة وممود صرمبنمى قرم مرسنها', 'مدى مدسة دربع جنعبة وممود صرمبنمى قرم مرسنها'), ('الفسم العلمى :', 'لرمن لنبا', 'لرمن لنبا'), ('القطاع الصاعى / التعمص', 'جلبا ترار لبنظلم ثبنة اذنترنت منثه', 'جلبا ترار لبنظلم ثبنة اذنترنت منثه'), ('-ى ملامة مرمع ئمة', 'ببه لغنبد ننبه صمد رلشرن عبه', 'ببه لغنبد ننبه صمد رلشرن عبه'), ('ساذ', 'عثت لر', 'عثت لر'), ('مدى نواذز امنخداء نجة الانرنن بقب', 'وود لنعت تنررر', 'وود لنعت تنررر'), ('خنبر ننظن تبن رثذرن عبه', 'جمم تزمث امرد + نون ء خمت | تدمة تنذرن', 'جمم تزمث امرد + نون ء خمت | تدمة تنذرن'), ('عبن ن', 'لنثبن مرث', 'لنثبن مرث'), ('مشة ربتر', 'من م مبت ورء لترت', 'من م مبت ورء لترت'), ('رثرء ذعن نر', 'لبد عدبجمذارن تتنب غرامبن', 'لبد عدبجمذارن تتنب غرامبن'), ('حذرم ذ ر -', 'فعتب ولمرلهع', 'فعتب ولمرلهع'), ('ذامت', 'مدى ثراز مغزمت عن لذلثبت ليث تن متن تنطت ]', 'مدى ثراز مغزمت عن لذلثبت ليث تن متن تنطت ]'), ('نراف نزمن امرد . ثران', 'تومر قدعم لمل لابمت لطرة', 'تومر قدعم لمل لابمت لطرة'), ('مطت سرز ر', 'ترفر مناح سالد عى الدكربة دتنرير', 'ترفر مناح سالد عى الدكربة دتنرير'), ('ملاما درنمع تطر', 'مهزت تبمن غن قمغومن وثرول تنستقتلى بن لف', 'مهزت تبمن غن قمغومن وثرول تنستقتلى بن لف'), ('جنول قعرامن قنبا من مبن منذ روء تترن', 'لل به', 'لل به'), ('نورث نرمن وورز عذ نم نرف غنقب رنن', 'هى تى . تبايل لبذمت وابعر بببنج', 'هى تى . تبايل لبذمت وابعر بببنج'), ('منمكنة', 'ثلمة حرلج خللر', 'ثلمة حرلج خللر'), ('نرافر ننب رنمرابع', 'مبعرة نشذ قيث لضى نى جد', 'مبعرة نشذ قيث لضى نى جد'), ('تخلافين نن تنر ائلز غذفين', 'رس على لنسر', 'رس على لنسر'), ('مار نرار منرمن عن', 'الاتاع رضب لهرن', 'الاتاع رضب لهرن'), ('نرافز دع آمنى نذبمن', 'لقلاب عنر', 'لقلاب عنر'), ('نررمداع ساءعى لاكارة وتطرير', 'مترمت لغرى', 'مترمت لغرى'), ('نوقر مهرا ثب عن لمنومن وتثئر وذ امنلان فر ثت ن', '٢مين ن ااغر رنن ح', '٢مين ن ااغر رنن ح'), ('ند', 'غنما بد- تبة شرن تنن;', 'غنما بد- تبة شرن تنن;'), ('رلمق', 'دوونءتد دسنكلن دال 2 معره1', 'دوونءتد دسنكلن دال 2 معره1'), ('ترتع نال معومك وأثر', ': علبه', ': علبه'), ('رت الر', 'سسببا', 'سسببا'), ('لرم غى اخبر ننذ بنبا مبرننشن تبن لنر فوعر', 'الفسم', 'الفسم')]\n"
     ]
    }
   ],
   "source": [
    "difference=[]\n",
    "for i,j,k in zip(resultraw,resultnosharp,resultsharp):\n",
    "    if i!=j or i!=k:\n",
    "        difference.append((i,j,k))\n",
    "        \n",
    "print(difference)"
   ]
  }
 ],
 "metadata": {
  "kernelspec": {
   "display_name": "Python 3",
   "language": "python",
   "name": "python3"
  },
  "language_info": {
   "codemirror_mode": {
    "name": "ipython",
    "version": 3
   },
   "file_extension": ".py",
   "mimetype": "text/x-python",
   "name": "python",
   "nbconvert_exporter": "python",
   "pygments_lexer": "ipython3",
   "version": "3.10.2"
  }
 },
 "nbformat": 4,
 "nbformat_minor": 2
}
